{
 "cells": [
  {
   "cell_type": "code",
   "execution_count": 1,
   "id": "50427d2f-8826-4429-b3be-b5255c9071e7",
   "metadata": {},
   "outputs": [],
   "source": [
    "#pickle "
   ]
  },
  {
   "cell_type": "code",
   "execution_count": null,
   "id": "2d1ee11f-f670-4da8-ad78-65ab0f2f519b",
   "metadata": {},
   "outputs": [],
   "source": [
    "import pickle\n"
   ]
  },
  {
   "cell_type": "code",
   "execution_count": null,
   "id": "9279cd72-8366-4aa4-a98f-7d7631e216fe",
   "metadata": {},
   "outputs": [],
   "source": [
    "model#if the model is already build or fitted "
   ]
  },
  {
   "cell_type": "code",
   "execution_count": null,
   "id": "914494bb-2bb7-41b1-ae76-2f6bccff59ea",
   "metadata": {},
   "outputs": [],
   "source": [
    "#dumbing the model \n",
    "pickle.dump(model,open(\"model.pkl\",\"wb\")) #wb for the binary mode #its serilization\n",
    "#python's object (model) , its attributed and method are converted into bytes strem"
   ]
  },
  {
   "cell_type": "code",
   "execution_count": null,
   "id": "66e28ffa-31e6-4e76-b72f-42a3f2f011b5",
   "metadata": {},
   "outputs": [],
   "source": [
    "#for the reading the model #deserialization\n",
    "model=pickle.load(open(\"model.pkl\",\"rb\"))"
   ]
  },
  {
   "cell_type": "code",
   "execution_count": null,
   "id": "12d39bbd-845b-487d-a3e7-a1cafccc7473",
   "metadata": {},
   "outputs": [],
   "source": [
    "model.predict(x_test)#"
   ]
  },
  {
   "cell_type": "markdown",
   "id": "7e983065-c5a3-43c8-a854-4268fe0978dd",
   "metadata": {},
   "source": [
    "#advanrtege for the pickle model\n",
    "Efficiency: No need to retrain models every time.\n",
    "\n",
    "Portability: Share models across systems or teams.\n",
    "\n",
    "Automation: Integrate saved models into production pipelines or web apps."
   ]
  },
  {
   "cell_type": "code",
   "execution_count": null,
   "id": "a3b2a375-c7cc-4cea-ae7f-152ba0047550",
   "metadata": {},
   "outputs": [],
   "source": []
  },
  {
   "cell_type": "code",
   "execution_count": null,
   "id": "8ec1543c-3026-4085-b933-d0352f459c70",
   "metadata": {},
   "outputs": [],
   "source": []
  },
  {
   "cell_type": "code",
   "execution_count": null,
   "id": "6268f3d7-236b-4cad-8cc0-7055871ec06d",
   "metadata": {},
   "outputs": [],
   "source": []
  },
  {
   "cell_type": "code",
   "execution_count": null,
   "id": "6cf6737c-ed4a-4eb2-8d82-2f22dcae7c7a",
   "metadata": {},
   "outputs": [],
   "source": []
  },
  {
   "cell_type": "code",
   "execution_count": null,
   "id": "f3af3108-8d11-4e10-a28b-19ab65dee518",
   "metadata": {},
   "outputs": [],
   "source": []
  },
  {
   "cell_type": "code",
   "execution_count": null,
   "id": "a1a6f5e7-f300-4359-a4a9-7c5a74ea226a",
   "metadata": {},
   "outputs": [],
   "source": []
  }
 ],
 "metadata": {
  "kernelspec": {
   "display_name": "Python 3 (ipykernel)",
   "language": "python",
   "name": "python3"
  },
  "language_info": {
   "codemirror_mode": {
    "name": "ipython",
    "version": 3
   },
   "file_extension": ".py",
   "mimetype": "text/x-python",
   "name": "python",
   "nbconvert_exporter": "python",
   "pygments_lexer": "ipython3",
   "version": "3.13.2"
  }
 },
 "nbformat": 4,
 "nbformat_minor": 5
}
